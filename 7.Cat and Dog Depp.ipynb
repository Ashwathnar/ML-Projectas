{
 "cells": [
  {
   "cell_type": "code",
   "execution_count": 26,
   "id": "c9f75c12",
   "metadata": {},
   "outputs": [],
   "source": [
    "# import nessary model\n",
    "import numpy as np \n",
    "import random\n",
    "import matplotlib.pyplot as plt\n",
    "import pickle\n",
    "import cv2\n",
    "import os"
   ]
  },
  {
   "cell_type": "code",
   "execution_count": 27,
   "id": "3b217a40-4d05-481a-ab02-32936fbf9220",
   "metadata": {},
   "outputs": [],
   "source": [
    "# load file\n",
    "Directory =r\"C:\\Users\\Logithashwath\\Documents\\machine learning program.practice\\animals\"\n",
    "Category = ['cats','dogs']"
   ]
  },
  {
   "cell_type": "code",
   "execution_count": 28,
   "id": "8713d08e-2e08-48cc-8497-9b17fafa7a6c",
   "metadata": {},
   "outputs": [],
   "source": [
    "# go to image file and get feature from image and all image shape change particularly same shape \n",
    "img_size = 100\n",
    "data = []\n",
    "\n",
    "for categ in Category:\n",
    "    folder= os.path.join(Directory,categ)\n",
    "    label = Category.index(categ)\n",
    "    for img in os.listdir(folder):\n",
    "        imgpath=os.path.join(folder,img)\n",
    "        imgarr = cv2.imread(imgpath)\n",
    "        imgarr = cv2.resize(imgarr,(img_size,img_size))\n",
    "        data.append([imgarr,label])\n",
    "        \n",
    "        \n",
    "    \n",
    "    "
   ]
  },
  {
   "cell_type": "code",
   "execution_count": 29,
   "id": "e48d1a3f-fb85-4a02-b33f-fe1d9593aaf0",
   "metadata": {},
   "outputs": [],
   "source": [
    "# randam shuffle used to all label value mixed with each other ,its going to stop imbalance dataset \n",
    "random.shuffle(data)"
   ]
  },
  {
   "cell_type": "code",
   "execution_count": 30,
   "id": "3e0e50fe-7e63-4d2c-ba7a-9fca5a2d6152",
   "metadata": {},
   "outputs": [
    {
     "data": {
      "text/plain": [
       "2000"
      ]
     },
     "execution_count": 30,
     "metadata": {},
     "output_type": "execute_result"
    }
   ],
   "source": [
    "len(data)"
   ]
  },
  {
   "cell_type": "code",
   "execution_count": 31,
   "id": "e63555bf-70dc-453b-9bef-10750c98a32a",
   "metadata": {},
   "outputs": [],
   "source": [
    "#split feature and labels\n",
    "X=[]\n",
    "y=[]\n",
    "for features,labels in data:\n",
    "    X.append(features)\n",
    "    y.append(labels)"
   ]
  },
  {
   "cell_type": "code",
   "execution_count": 32,
   "id": "933ef9a9-76c4-4389-a373-e8e3fc162f4a",
   "metadata": {},
   "outputs": [],
   "source": [
    "# its change to array\n",
    "X=np.array(X)\n",
    "y=np.array(y)"
   ]
  },
  {
   "cell_type": "code",
   "execution_count": 33,
   "id": "d7281534-5fe5-456c-91cd-44956d28d5a4",
   "metadata": {},
   "outputs": [],
   "source": [
    "#its used for supose i write code in another note book and easily imort the data\n",
    "pickle.dump(X, open(\"X.pickle\",\"wb\"))\n",
    "pickle.dump(y, open(\"y.pickle\",\"wb\"))\n",
    "    "
   ]
  },
  {
   "cell_type": "code",
   "execution_count": 34,
   "id": "b12e261e-572b-492b-8f3d-fae92720dc38",
   "metadata": {},
   "outputs": [],
   "source": [
    "# i scaling the features all value change to 0,1 because easly learn the patter to the model\n",
    "# all feature values range is 0 to 255  only ,so i divided X into 255, now easly learn model\n",
    "\n",
    "X=X/255"
   ]
  },
  {
   "cell_type": "code",
   "execution_count": 35,
   "id": "704c1615-28ef-4962-b671-79a9e7575714",
   "metadata": {},
   "outputs": [
    {
     "data": {
      "text/plain": [
       "array([[[[0.        , 0.00784314, 0.01176471],\n",
       "         [0.        , 0.00784314, 0.01176471],\n",
       "         [0.        , 0.00784314, 0.01176471],\n",
       "         ...,\n",
       "         [0.34117647, 0.29411765, 0.28627451],\n",
       "         [0.34509804, 0.29803922, 0.29019608],\n",
       "         [0.32941176, 0.29411765, 0.30588235]],\n",
       "\n",
       "        [[0.        , 0.00784314, 0.01176471],\n",
       "         [0.        , 0.00784314, 0.01176471],\n",
       "         [0.        , 0.00784314, 0.01176471],\n",
       "         ...,\n",
       "         [0.34117647, 0.29411765, 0.28627451],\n",
       "         [0.34509804, 0.29803922, 0.29019608],\n",
       "         [0.3372549 , 0.30588235, 0.30980392]],\n",
       "\n",
       "        [[0.        , 0.00392157, 0.00784314],\n",
       "         [0.        , 0.00392157, 0.00784314],\n",
       "         [0.00392157, 0.01176471, 0.01568627],\n",
       "         ...,\n",
       "         [0.34117647, 0.29411765, 0.28627451],\n",
       "         [0.3372549 , 0.29019608, 0.28235294],\n",
       "         [0.32941176, 0.30196078, 0.29019608]],\n",
       "\n",
       "        ...,\n",
       "\n",
       "        [[0.        , 0.        , 0.01568627],\n",
       "         [0.13333333, 0.13333333, 0.13333333],\n",
       "         [0.17647059, 0.16470588, 0.14901961],\n",
       "         ...,\n",
       "         [0.36078431, 0.31372549, 0.30588235],\n",
       "         [0.35294118, 0.30588235, 0.29803922],\n",
       "         [0.34509804, 0.30196078, 0.28627451]],\n",
       "\n",
       "        [[0.        , 0.        , 0.01176471],\n",
       "         [0.15294118, 0.15686275, 0.14901961],\n",
       "         [0.16862745, 0.16470588, 0.14901961],\n",
       "         ...,\n",
       "         [0.35294118, 0.30588235, 0.29803922],\n",
       "         [0.3372549 , 0.29019608, 0.28235294],\n",
       "         [0.34509804, 0.30980392, 0.29803922]],\n",
       "\n",
       "        [[0.        , 0.        , 0.02352941],\n",
       "         [0.13333333, 0.15294118, 0.1254902 ],\n",
       "         [0.14901961, 0.16862745, 0.13333333],\n",
       "         ...,\n",
       "         [0.34901961, 0.30196078, 0.29411765],\n",
       "         [0.34901961, 0.30196078, 0.29411765],\n",
       "         [0.33333333, 0.30588235, 0.29411765]]],\n",
       "\n",
       "\n",
       "       [[[0.27843137, 0.34509804, 0.38039216],\n",
       "         [0.2745098 , 0.33333333, 0.36862745],\n",
       "         [0.29803922, 0.34509804, 0.38431373],\n",
       "         ...,\n",
       "         [0.38039216, 0.45098039, 0.48235294],\n",
       "         [0.43529412, 0.51372549, 0.55686275],\n",
       "         [0.40784314, 0.46666667, 0.51764706]],\n",
       "\n",
       "        [[0.25098039, 0.31764706, 0.35294118],\n",
       "         [0.29411765, 0.35294118, 0.38823529],\n",
       "         [0.25882353, 0.30588235, 0.34509804],\n",
       "         ...,\n",
       "         [0.54509804, 0.61568627, 0.65098039],\n",
       "         [0.36470588, 0.44313725, 0.48627451],\n",
       "         [0.42352941, 0.48235294, 0.52941176]],\n",
       "\n",
       "        [[0.30588235, 0.37254902, 0.40784314],\n",
       "         [0.2627451 , 0.32156863, 0.35686275],\n",
       "         [0.27843137, 0.3254902 , 0.36470588],\n",
       "         ...,\n",
       "         [0.42745098, 0.49803922, 0.52941176],\n",
       "         [0.4745098 , 0.55294118, 0.59215686],\n",
       "         [0.47058824, 0.53333333, 0.56862745]],\n",
       "\n",
       "        ...,\n",
       "\n",
       "        [[0.7372549 , 0.81176471, 0.84313725],\n",
       "         [0.70588235, 0.78039216, 0.81176471],\n",
       "         [0.7372549 , 0.81176471, 0.84313725],\n",
       "         ...,\n",
       "         [0.45098039, 0.38823529, 0.61960784],\n",
       "         [0.45882353, 0.36470588, 0.63137255],\n",
       "         [0.44313725, 0.38431373, 0.64313725]],\n",
       "\n",
       "        [[0.67843137, 0.76862745, 0.8       ],\n",
       "         [0.68627451, 0.77647059, 0.80784314],\n",
       "         [0.67843137, 0.76862745, 0.8       ],\n",
       "         ...,\n",
       "         [0.37254902, 0.40392157, 0.54901961],\n",
       "         [0.42745098, 0.43529412, 0.59215686],\n",
       "         [0.41568627, 0.42352941, 0.58431373]],\n",
       "\n",
       "        [[0.69803922, 0.77254902, 0.80392157],\n",
       "         [0.69803922, 0.77254902, 0.80392157],\n",
       "         [0.69803922, 0.77254902, 0.80392157],\n",
       "         ...,\n",
       "         [0.47843137, 0.50980392, 0.59215686],\n",
       "         [0.51372549, 0.52156863, 0.61176471],\n",
       "         [0.54901961, 0.56078431, 0.67843137]]],\n",
       "\n",
       "\n",
       "       [[[0.43137255, 0.65882353, 0.85098039],\n",
       "         [0.44705882, 0.6745098 , 0.86666667],\n",
       "         [0.44313725, 0.67058824, 0.8627451 ],\n",
       "         ...,\n",
       "         [0.38431373, 0.62745098, 0.80784314],\n",
       "         [0.40784314, 0.65098039, 0.83137255],\n",
       "         [0.41960784, 0.6745098 , 0.84313725]],\n",
       "\n",
       "        [[0.43921569, 0.66666667, 0.85882353],\n",
       "         [0.45098039, 0.67843137, 0.8745098 ],\n",
       "         [0.45882353, 0.68627451, 0.87843137],\n",
       "         ...,\n",
       "         [0.42745098, 0.67058824, 0.85098039],\n",
       "         [0.45098039, 0.69411765, 0.8745098 ],\n",
       "         [0.45882353, 0.70588235, 0.90196078]],\n",
       "\n",
       "        [[0.41960784, 0.64705882, 0.83921569],\n",
       "         [0.43137255, 0.65882353, 0.85098039],\n",
       "         [0.43921569, 0.66666667, 0.85882353],\n",
       "         ...,\n",
       "         [0.4627451 , 0.70588235, 0.88627451],\n",
       "         [0.48235294, 0.7254902 , 0.90588235],\n",
       "         [0.51764706, 0.7372549 , 0.91764706]],\n",
       "\n",
       "        ...,\n",
       "\n",
       "        [[0.05490196, 0.05098039, 0.09411765],\n",
       "         [0.09019608, 0.10196078, 0.11764706],\n",
       "         [0.09803922, 0.11372549, 0.14509804],\n",
       "         ...,\n",
       "         [0.20784314, 0.25490196, 0.35294118],\n",
       "         [0.17647059, 0.24313725, 0.3372549 ],\n",
       "         [0.15686275, 0.25098039, 0.33333333]],\n",
       "\n",
       "        [[0.05882353, 0.0745098 , 0.07843137],\n",
       "         [0.0627451 , 0.07843137, 0.08235294],\n",
       "         [0.10588235, 0.12156863, 0.1254902 ],\n",
       "         ...,\n",
       "         [0.16862745, 0.20784314, 0.25098039],\n",
       "         [0.17254902, 0.20784314, 0.2627451 ],\n",
       "         [0.16862745, 0.23137255, 0.27843137]],\n",
       "\n",
       "        [[0.04705882, 0.0627451 , 0.06666667],\n",
       "         [0.07843137, 0.09411765, 0.09803922],\n",
       "         [0.1372549 , 0.15294118, 0.15686275],\n",
       "         ...,\n",
       "         [0.13333333, 0.14509804, 0.1372549 ],\n",
       "         [0.14117647, 0.14901961, 0.15294118],\n",
       "         [0.17254902, 0.19215686, 0.22745098]]],\n",
       "\n",
       "\n",
       "       ...,\n",
       "\n",
       "\n",
       "       [[[0.58431373, 0.63137255, 0.64705882],\n",
       "         [0.59215686, 0.63921569, 0.65490196],\n",
       "         [0.6       , 0.64705882, 0.6627451 ],\n",
       "         ...,\n",
       "         [0.34117647, 0.38823529, 0.41176471],\n",
       "         [0.31764706, 0.35294118, 0.37647059],\n",
       "         [0.30588235, 0.34509804, 0.37254902]],\n",
       "\n",
       "        [[0.58823529, 0.63529412, 0.65098039],\n",
       "         [0.59215686, 0.63921569, 0.65490196],\n",
       "         [0.60392157, 0.65098039, 0.66666667],\n",
       "         ...,\n",
       "         [0.3372549 , 0.38431373, 0.40392157],\n",
       "         [0.38039216, 0.41568627, 0.43137255],\n",
       "         [0.32941176, 0.37254902, 0.38823529]],\n",
       "\n",
       "        [[0.59607843, 0.64313725, 0.65882353],\n",
       "         [0.6       , 0.64705882, 0.6627451 ],\n",
       "         [0.59215686, 0.63921569, 0.65490196],\n",
       "         ...,\n",
       "         [0.34509804, 0.4       , 0.39215686],\n",
       "         [0.37254902, 0.41176471, 0.41176471],\n",
       "         [0.35686275, 0.40392157, 0.40392157]],\n",
       "\n",
       "        ...,\n",
       "\n",
       "        [[0.36862745, 0.32941176, 0.39215686],\n",
       "         [0.19215686, 0.25490196, 0.29803922],\n",
       "         [0.28627451, 0.29019608, 0.34509804],\n",
       "         ...,\n",
       "         [0.41176471, 0.42352941, 0.44313725],\n",
       "         [0.41960784, 0.42352941, 0.4627451 ],\n",
       "         [0.32941176, 0.32941176, 0.37647059]],\n",
       "\n",
       "        [[0.39215686, 0.39215686, 0.44313725],\n",
       "         [0.36078431, 0.38431373, 0.43137255],\n",
       "         [0.36862745, 0.42352941, 0.46666667],\n",
       "         ...,\n",
       "         [0.4       , 0.4       , 0.45098039],\n",
       "         [0.44705882, 0.44313725, 0.50980392],\n",
       "         [0.41960784, 0.41568627, 0.47843137]],\n",
       "\n",
       "        [[0.12941176, 0.16470588, 0.21568627],\n",
       "         [0.21568627, 0.22352941, 0.27843137],\n",
       "         [0.18039216, 0.20392157, 0.25490196],\n",
       "         ...,\n",
       "         [0.17647059, 0.16078431, 0.22352941],\n",
       "         [0.00784314, 0.01176471, 0.07843137],\n",
       "         [0.17254902, 0.17254902, 0.24313725]]],\n",
       "\n",
       "\n",
       "       [[[0.02352941, 0.02352941, 0.07058824],\n",
       "         [0.01960784, 0.01568627, 0.07843137],\n",
       "         [0.03529412, 0.04705882, 0.06666667],\n",
       "         ...,\n",
       "         [0.01960784, 0.02352941, 0.0627451 ],\n",
       "         [0.05098039, 0.04705882, 0.10980392],\n",
       "         [0.03529412, 0.03529412, 0.09019608]],\n",
       "\n",
       "        [[0.02745098, 0.02745098, 0.0745098 ],\n",
       "         [0.03137255, 0.02745098, 0.09019608],\n",
       "         [0.04705882, 0.05882353, 0.07843137],\n",
       "         ...,\n",
       "         [0.03921569, 0.03921569, 0.08627451],\n",
       "         [0.05098039, 0.04705882, 0.10980392],\n",
       "         [0.03137255, 0.03921569, 0.07058824]],\n",
       "\n",
       "        [[0.01960784, 0.01960784, 0.06666667],\n",
       "         [0.02352941, 0.01960784, 0.08235294],\n",
       "         [0.05490196, 0.06666667, 0.08627451],\n",
       "         ...,\n",
       "         [0.03921569, 0.03529412, 0.09803922],\n",
       "         [0.02352941, 0.02352941, 0.07843137],\n",
       "         [0.04313725, 0.05098039, 0.08235294]],\n",
       "\n",
       "        ...,\n",
       "\n",
       "        [[0.23529412, 0.29411765, 0.51372549],\n",
       "         [0.23137255, 0.29019608, 0.50980392],\n",
       "         [0.27058824, 0.32941176, 0.54901961],\n",
       "         ...,\n",
       "         [0.40392157, 0.43137255, 0.58431373],\n",
       "         [0.31372549, 0.34901961, 0.48235294],\n",
       "         [0.40392157, 0.43529412, 0.58039216]],\n",
       "\n",
       "        [[0.21960784, 0.29019608, 0.51372549],\n",
       "         [0.22745098, 0.30196078, 0.5254902 ],\n",
       "         [0.2627451 , 0.3372549 , 0.56078431],\n",
       "         ...,\n",
       "         [0.41568627, 0.44705882, 0.59215686],\n",
       "         [0.30588235, 0.34117647, 0.4745098 ],\n",
       "         [0.41176471, 0.43921569, 0.59215686]],\n",
       "\n",
       "        [[0.18431373, 0.25882353, 0.48235294],\n",
       "         [0.23921569, 0.31372549, 0.5372549 ],\n",
       "         [0.28627451, 0.36078431, 0.58431373],\n",
       "         ...,\n",
       "         [0.39215686, 0.42352941, 0.56862745],\n",
       "         [0.34117647, 0.38039216, 0.50588235],\n",
       "         [0.41568627, 0.44313725, 0.59607843]]],\n",
       "\n",
       "\n",
       "       [[[0.54509804, 0.55294118, 0.55294118],\n",
       "         [0.54117647, 0.54901961, 0.54901961],\n",
       "         [0.5372549 , 0.54509804, 0.54509804],\n",
       "         ...,\n",
       "         [0.52156863, 0.30980392, 0.14117647],\n",
       "         [0.52156863, 0.29411765, 0.14117647],\n",
       "         [0.51372549, 0.30980392, 0.12941176]],\n",
       "\n",
       "        [[0.54509804, 0.55294118, 0.55294118],\n",
       "         [0.54117647, 0.54901961, 0.54901961],\n",
       "         [0.54901961, 0.55686275, 0.55686275],\n",
       "         ...,\n",
       "         [0.5254902 , 0.30980392, 0.13333333],\n",
       "         [0.52156863, 0.31764706, 0.1372549 ],\n",
       "         [0.51764706, 0.30980392, 0.14117647]],\n",
       "\n",
       "        [[0.54117647, 0.54901961, 0.54901961],\n",
       "         [0.54509804, 0.55294118, 0.55294118],\n",
       "         [0.54509804, 0.55294118, 0.55294118],\n",
       "         ...,\n",
       "         [0.49019608, 0.30196078, 0.1372549 ],\n",
       "         [0.5254902 , 0.32156863, 0.14117647],\n",
       "         [0.50980392, 0.31372549, 0.14901961]],\n",
       "\n",
       "        ...,\n",
       "\n",
       "        [[0.2       , 0.25882353, 0.34509804],\n",
       "         [0.12156863, 0.21960784, 0.29803922],\n",
       "         [0.12156863, 0.19607843, 0.27843137],\n",
       "         ...,\n",
       "         [0.45490196, 0.52156863, 0.51764706],\n",
       "         [0.61568627, 0.58039216, 0.51764706],\n",
       "         [0.64705882, 0.58823529, 0.54509804]],\n",
       "\n",
       "        [[0.11764706, 0.21176471, 0.30588235],\n",
       "         [0.10980392, 0.21960784, 0.30196078],\n",
       "         [0.1254902 , 0.21176471, 0.29803922],\n",
       "         ...,\n",
       "         [0.47058824, 0.51764706, 0.51764706],\n",
       "         [0.65882353, 0.56862745, 0.54509804],\n",
       "         [0.6745098 , 0.6       , 0.58039216]],\n",
       "\n",
       "        [[0.12941176, 0.22352941, 0.30980392],\n",
       "         [0.1372549 , 0.23137255, 0.31764706],\n",
       "         [0.14509804, 0.23529412, 0.3254902 ],\n",
       "         ...,\n",
       "         [0.45882353, 0.52156863, 0.51764706],\n",
       "         [0.64705882, 0.57254902, 0.54509804],\n",
       "         [0.66666667, 0.59215686, 0.56862745]]]])"
      ]
     },
     "execution_count": 35,
     "metadata": {},
     "output_type": "execute_result"
    }
   ],
   "source": [
    "X"
   ]
  },
  {
   "cell_type": "code",
   "execution_count": 36,
   "id": "50d83974-a9fa-49f9-8543-0c30a61810b5",
   "metadata": {},
   "outputs": [
    {
     "data": {
      "text/plain": [
       "(2000, 100, 100, 3)"
      ]
     },
     "execution_count": 36,
     "metadata": {},
     "output_type": "execute_result"
    }
   ],
   "source": [
    "#there is 2000 image , shape is 100*100 and 3 chanels\n",
    "\n",
    "X.shape"
   ]
  },
  {
   "cell_type": "code",
   "execution_count": 37,
   "id": "5a107d1d-f5b0-4b19-ac09-1bf8e58ec9f3",
   "metadata": {},
   "outputs": [],
   "source": [
    "#spliting traing and test dataset\n",
    "from sklearn.model_selection import train_test_split\n",
    "X_train,X_test,y_train,y_test=train_test_split(X,y  ,test_size=0.1,random_state=42)"
   ]
  },
  {
   "cell_type": "code",
   "execution_count": 38,
   "id": "9e3ff386-fd8e-4c56-9102-68b58ba14c22",
   "metadata": {},
   "outputs": [],
   "source": [
    "#its a import model build library\n",
    "from tensorflow.keras.models import Sequential\n",
    "from tensorflow.keras.layers import Conv2D,MaxPool2D,Flatten,Dense\n",
    "from tensorflow.keras.optimizers import Adam"
   ]
  },
  {
   "cell_type": "code",
   "execution_count": 39,
   "id": "49bfb0c9-cb2a-464a-8931-3f26034d9767",
   "metadata": {},
   "outputs": [],
   "source": [
    "# model build using cnn\n",
    "\n",
    "model=Sequential()\n",
    "\n",
    "model.add(Conv2D(64,(3,3), activation= \"relu\"))\n",
    "model.add(MaxPool2D(2,2))          \n",
    "\n",
    "model.add(Conv2D(64,(3,3), activation=\"relu\"))\n",
    "model.add(MaxPool2D(2,2))          \n",
    "          \n",
    "model.add(Flatten())\n",
    "model.add(Dense(128,input_shape= X.shape[1:],activation='relu'))\n",
    "\n",
    "\n",
    "model.add(Dense(2,activation=\"softmax\"))        "
   ]
  },
  {
   "cell_type": "code",
   "execution_count": 40,
   "id": "810921ed-27fe-4748-82b8-8cfa1e8b7fe1",
   "metadata": {},
   "outputs": [],
   "source": [
    "#it's for compile and back propagation using optimizer\n",
    "model.compile(optimizer=Adam(learning_rate=0.001) ,loss='sparse_categorical_crossentropy',metrics=['accuracy'])"
   ]
  },
  {
   "cell_type": "code",
   "execution_count": 44,
   "id": "ceff7088-eef3-49bb-bd75-f98889612442",
   "metadata": {},
   "outputs": [
    {
     "name": "stdout",
     "output_type": "stream",
     "text": [
      "Epoch 1/5\n",
      "26/26 [==============================] - 24s 910ms/step - loss: 0.4538 - accuracy: 0.7852 - val_loss: 0.6573 - val_accuracy: 0.6833\n",
      "Epoch 2/5\n",
      "26/26 [==============================] - 26s 990ms/step - loss: 0.3432 - accuracy: 0.8512 - val_loss: 0.7459 - val_accuracy: 0.6389\n",
      "Epoch 3/5\n",
      "26/26 [==============================] - 24s 917ms/step - loss: 0.2829 - accuracy: 0.8827 - val_loss: 0.8479 - val_accuracy: 0.6833\n",
      "Epoch 4/5\n",
      "26/26 [==============================] - 25s 953ms/step - loss: 0.1927 - accuracy: 0.9247 - val_loss: 0.8655 - val_accuracy: 0.6611\n",
      "Epoch 5/5\n",
      "26/26 [==============================] - 26s 979ms/step - loss: 0.1115 - accuracy: 0.9642 - val_loss: 1.0125 - val_accuracy: 0.6611\n"
     ]
    },
    {
     "data": {
      "text/plain": [
       "<keras.callbacks.History at 0x1e4ea647a30>"
      ]
     },
     "execution_count": 44,
     "metadata": {},
     "output_type": "execute_result"
    }
   ],
   "source": [
    "# finall train the model\n",
    "\n",
    "model.fit(X_train,y_train,epochs=5,batch_size=64, validation_split=0.1)"
   ]
  },
  {
   "cell_type": "code",
   "execution_count": 45,
   "id": "0c882c04-486b-4532-be42-d606a683f4bc",
   "metadata": {
    "scrolled": true
   },
   "outputs": [
    {
     "name": "stdout",
     "output_type": "stream",
     "text": [
      "7/7 [==============================] - 1s 106ms/step - loss: 0.9548 - accuracy: 0.6900\n"
     ]
    },
    {
     "data": {
      "text/plain": [
       "[0.9548197388648987, 0.6899999976158142]"
      ]
     },
     "execution_count": 45,
     "metadata": {},
     "output_type": "execute_result"
    }
   ],
   "source": [
    "# evaluate the model\n",
    "\n",
    "model.evaluate(X_test,y_test)"
   ]
  },
  {
   "cell_type": "markdown",
   "id": "bedd2f47-8b83-44e1-a5f8-cef68c1727de",
   "metadata": {},
   "source": [
    "# Making Prediction"
   ]
  },
  {
   "cell_type": "code",
   "execution_count": 93,
   "id": "b9aa1e7f-e0db-4dcb-99d5-d191f809416b",
   "metadata": {},
   "outputs": [
    {
     "data": {
      "image/png": "[encoded data removed]",
      "text/plain": [
       "<Figure size 640x480 with 1 Axes>"
      ]
     },
     "metadata": {},
     "output_type": "display_data"
    },
    {
     "name": "stdout",
     "output_type": "stream",
     "text": [
      "1/1 [==============================] - 0s 62ms/step\n",
      "[[0.94177663 0.05822336]]\n",
      "its a  cat\n"
     ]
    }
   ],
   "source": [
    "idx2= random.randint(0,len(y_test))\n",
    "plt.imshow(X_test[idx2,:])\n",
    "plt.show()     \n",
    "\n",
    "predict= model.predict(X_test[idx2,:].reshape(1,100,100,3))\n",
    "print(predict)\n",
    "predict= predict>0.5\n",
    "if(predict==0).all():\n",
    " pre=\"dog\"\n",
    "else:\n",
    "  pre=\"cat\" \n",
    "    \n",
    "print(\"its a \",pre)"
   ]
  },
  {
   "cell_type": "code",
   "execution_count": null,
   "id": "eb45b3b8-1fe8-4402-bc08-4c256abbb63c",
   "metadata": {},
   "outputs": [],
   "source": []
  },
  {
   "cell_type": "code",
   "execution_count": null,
   "id": "247e033f-8e1c-480a-8cf5-6368ede7d4fa",
   "metadata": {},
   "outputs": [],
   "source": []
  }
 ],
 "metadata": {
  "kernelspec": {
   "display_name": "Python 3 (ipykernel)",
   "language": "python",
   "name": "python3"
  },
  "language_info": {
   "codemirror_mode": {
    "name": "ipython",
    "version": 3
   },
   "file_extension": ".py",
   "mimetype": "text/x-python",
   "name": "python",
   "nbconvert_exporter": "python",
   "pygments_lexer": "ipython3",
   "version": "3.10.13"
  }
 },
 "nbformat": 4,
 "nbformat_minor": 5
}
